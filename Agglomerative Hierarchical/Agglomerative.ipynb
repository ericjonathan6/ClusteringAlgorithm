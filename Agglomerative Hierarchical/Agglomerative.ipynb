{
 "cells": [
  {
   "cell_type": "code",
   "execution_count": 63,
   "metadata": {},
   "outputs": [],
   "source": [
    "import pandas as pd\n",
    "import numpy as np\n",
    "import matplotlib.pyplot as plt\n",
    "%matplotlib inline"
   ]
  },
  {
   "cell_type": "code",
   "execution_count": 64,
   "metadata": {},
   "outputs": [],
   "source": [
    "iris_df = pd.read_csv('../dataset/iris.data', names=['feature_1', 'feature_2', 'feature_3', 'feature_4', 'label'], index_col=False)"
   ]
  },
  {
   "cell_type": "code",
   "execution_count": 65,
   "metadata": {},
   "outputs": [
    {
     "data": {
      "text/html": [
       "<div>\n",
       "<style scoped>\n",
       "    .dataframe tbody tr th:only-of-type {\n",
       "        vertical-align: middle;\n",
       "    }\n",
       "\n",
       "    .dataframe tbody tr th {\n",
       "        vertical-align: top;\n",
       "    }\n",
       "\n",
       "    .dataframe thead th {\n",
       "        text-align: right;\n",
       "    }\n",
       "</style>\n",
       "<table border=\"1\" class=\"dataframe\">\n",
       "  <thead>\n",
       "    <tr style=\"text-align: right;\">\n",
       "      <th></th>\n",
       "      <th>feature_1</th>\n",
       "      <th>feature_2</th>\n",
       "      <th>feature_3</th>\n",
       "      <th>feature_4</th>\n",
       "      <th>label</th>\n",
       "    </tr>\n",
       "  </thead>\n",
       "  <tbody>\n",
       "    <tr>\n",
       "      <th>0</th>\n",
       "      <td>5.1</td>\n",
       "      <td>3.5</td>\n",
       "      <td>1.4</td>\n",
       "      <td>0.2</td>\n",
       "      <td>Iris-setosa</td>\n",
       "    </tr>\n",
       "    <tr>\n",
       "      <th>1</th>\n",
       "      <td>4.9</td>\n",
       "      <td>3.0</td>\n",
       "      <td>1.4</td>\n",
       "      <td>0.2</td>\n",
       "      <td>Iris-setosa</td>\n",
       "    </tr>\n",
       "    <tr>\n",
       "      <th>2</th>\n",
       "      <td>4.7</td>\n",
       "      <td>3.2</td>\n",
       "      <td>1.3</td>\n",
       "      <td>0.2</td>\n",
       "      <td>Iris-setosa</td>\n",
       "    </tr>\n",
       "    <tr>\n",
       "      <th>3</th>\n",
       "      <td>4.6</td>\n",
       "      <td>3.1</td>\n",
       "      <td>1.5</td>\n",
       "      <td>0.2</td>\n",
       "      <td>Iris-setosa</td>\n",
       "    </tr>\n",
       "    <tr>\n",
       "      <th>4</th>\n",
       "      <td>5.0</td>\n",
       "      <td>3.6</td>\n",
       "      <td>1.4</td>\n",
       "      <td>0.2</td>\n",
       "      <td>Iris-setosa</td>\n",
       "    </tr>\n",
       "  </tbody>\n",
       "</table>\n",
       "</div>"
      ],
      "text/plain": [
       "   feature_1  feature_2  feature_3  feature_4        label\n",
       "0        5.1        3.5        1.4        0.2  Iris-setosa\n",
       "1        4.9        3.0        1.4        0.2  Iris-setosa\n",
       "2        4.7        3.2        1.3        0.2  Iris-setosa\n",
       "3        4.6        3.1        1.5        0.2  Iris-setosa\n",
       "4        5.0        3.6        1.4        0.2  Iris-setosa"
      ]
     },
     "execution_count": 65,
     "metadata": {},
     "output_type": "execute_result"
    }
   ],
   "source": [
    "iris_df.head()"
   ]
  },
  {
   "cell_type": "code",
   "execution_count": 66,
   "metadata": {},
   "outputs": [],
   "source": [
    "from sklearn.preprocessing import LabelEncoder\n",
    "le = LabelEncoder()\n",
    "iris_df['label'] = le.fit_transform(iris_df['label'])"
   ]
  },
  {
   "cell_type": "markdown",
   "metadata": {},
   "source": [
    "# Label Encoding Guidelines\n",
    "* setosa = 0\n",
    "* versicolor = 1\n",
    "* virginica = 2"
   ]
  },
  {
   "cell_type": "code",
   "execution_count": 67,
   "metadata": {},
   "outputs": [],
   "source": [
    "from sklearn.cluster import AgglomerativeClustering"
   ]
  },
  {
   "cell_type": "code",
   "execution_count": 68,
   "metadata": {},
   "outputs": [],
   "source": [
    "agg = AgglomerativeClustering(3)"
   ]
  },
  {
   "cell_type": "code",
   "execution_count": 69,
   "metadata": {},
   "outputs": [
    {
     "data": {
      "text/plain": [
       "AgglomerativeClustering(affinity='euclidean', compute_full_tree='auto',\n",
       "                        connectivity=None, distance_threshold=None,\n",
       "                        linkage='ward', memory=None, n_clusters=3,\n",
       "                        pooling_func='deprecated')"
      ]
     },
     "execution_count": 69,
     "metadata": {},
     "output_type": "execute_result"
    }
   ],
   "source": [
    "features = iris_df.drop(['label'], axis=1)\n",
    "agg.fit(features)"
   ]
  },
  {
   "cell_type": "code",
   "execution_count": 70,
   "metadata": {},
   "outputs": [
    {
     "data": {
      "text/plain": [
       "array([1, 1, 1, 1, 1, 1, 1, 1, 1, 1, 1, 1, 1, 1, 1, 1, 1, 1, 1, 1, 1, 1,\n",
       "       1, 1, 1, 1, 1, 1, 1, 1, 1, 1, 1, 1, 1, 1, 1, 1, 1, 1, 1, 1, 1, 1,\n",
       "       1, 1, 1, 1, 1, 1, 0, 0, 0, 0, 0, 0, 0, 0, 0, 0, 0, 0, 0, 0, 0, 0,\n",
       "       0, 0, 0, 0, 0, 0, 0, 0, 0, 0, 0, 2, 0, 0, 0, 0, 0, 0, 0, 0, 0, 0,\n",
       "       0, 0, 0, 0, 0, 0, 0, 0, 0, 0, 0, 0, 2, 0, 2, 2, 2, 2, 0, 2, 2, 2,\n",
       "       2, 2, 2, 0, 0, 2, 2, 2, 2, 0, 2, 0, 2, 0, 2, 2, 0, 0, 2, 2, 2, 2,\n",
       "       2, 0, 0, 2, 2, 2, 0, 2, 2, 2, 0, 2, 2, 2, 0, 2, 2, 0], dtype=int64)"
      ]
     },
     "execution_count": 70,
     "metadata": {},
     "output_type": "execute_result"
    }
   ],
   "source": [
    "agg.labels_"
   ]
  },
  {
   "cell_type": "code",
   "execution_count": 71,
   "metadata": {},
   "outputs": [],
   "source": [
    "def single_link(features, clusters, p_a):\n",
    "    new_distance = []\n",
    "    list_f = features.values.tolist()\n",
    "    for cluster in clusters :\n",
    "        init_a = list_f[cluster[0]]\n",
    "        init_b = list_f[clusters[p_a][0]]\n",
    "        min_distance = np.linalg.norm(np.array(init_a)-np.array(init_b))\n",
    "        for a in cluster :\n",
    "            for b in clusters[p_a] :\n",
    "                new_dist = np.linalg.norm(np.array(list_f[a])-np.array(list_f[b]))\n",
    "                min_distance = new_dist if new_dist < min_distance else min_distance \n",
    "        new_distance.append(min_distance)\n",
    "    return new_distance"
   ]
  },
  {
   "cell_type": "code",
   "execution_count": 72,
   "metadata": {},
   "outputs": [],
   "source": [
    "def complete_link(features, clusters, p_a):\n",
    "    new_distance = []\n",
    "    list_f = features.values.tolist()\n",
    "    for cluster in clusters :\n",
    "        init_a = list_f[cluster[0]]\n",
    "        init_b = list_f[clusters[p_a][0]]\n",
    "        max_distance = np.linalg.norm(np.array(init_a)-np.array(init_b))\n",
    "        for a in cluster :\n",
    "            for b in clusters[p_a] :\n",
    "                new_dist = np.linalg.norm(np.array(list_f[a])-np.array(list_f[b]))\n",
    "                max_distance = new_dist if new_dist > max_distance else max_distance \n",
    "        new_distance.append(max_distance)\n",
    "    return new_distance"
   ]
  },
  {
   "cell_type": "code",
   "execution_count": 73,
   "metadata": {},
   "outputs": [],
   "source": [
    "def avg_list(p):\n",
    "    sum_feature = [0 for i in range(len(p[0]))]\n",
    "    for i in range(len(p[0])):\n",
    "        for j in range(len(p)):\n",
    "            sum_feature[i] = sum_feature[i] + p[j][i]\n",
    "    sum_feature[:] = [x / len(p) for x in sum_feature]\n",
    "    \n",
    "    return sum_feature\n",
    "    \n",
    "def create_feature_list(features, cluster):\n",
    "    feature_list = []\n",
    "    list_f = features.values.tolist()\n",
    "\n",
    "    for p in cluster:\n",
    "        feature_list.append(list_f[p])\n",
    "    \n",
    "    return feature_list\n",
    "    \n",
    "def average_link(features, clusters, p_a):\n",
    "    new_distance = []\n",
    "    feature_list_a = create_feature_list(features, clusters[p_a])\n",
    "\n",
    "    for cluster in clusters:\n",
    "        feature_list_b = create_feature_list(features, cluster)\n",
    "        distance = np.linalg.norm( np.array(avg_list(feature_list_a)) - np.array(avg_list(feature_list_b)) )\n",
    "        new_distance.append(distance)\n",
    "\n",
    "    return new_distance\n"
   ]
  },
  {
   "cell_type": "code",
   "execution_count": 74,
   "metadata": {},
   "outputs": [],
   "source": [
    "def average_complete_link() :\n",
    "    new_distance = []\n",
    "    feature_list_a = create_feature_list(features, clusters[p_a])\n",
    "\n",
    "    for cluster in clusters:\n",
    "        feature_list_b = create_feature_list(features, cluster)\n",
    "        distance = 0\n",
    "        for i in range(len(feature_list_a)):\n",
    "            for j in range(len(feature_list_b)):\n",
    "                distance += np.linalg.norm( np.array(feature_list_a[i]) - np.array(feature_list_b[j]) )\n",
    "                \n",
    "        new_distance.append(distance / (len(feature_list_a)*len(feature_list_b)))\n",
    "\n",
    "    return new_distance"
   ]
  },
  {
   "cell_type": "code",
   "execution_count": 75,
   "metadata": {},
   "outputs": [],
   "source": [
    "def find_adj_matrix(features) :\n",
    "    \n",
    "    adj_matrix = [[0 for x in range(features.shape[0])] for y in range(features.shape[0])]\n",
    "    \n",
    "    for a in range(features.shape[0]) :\n",
    "        for b in range(features.shape[0]) :\n",
    "            if (b <= a) :\n",
    "                adj_matrix[a][b] = np.linalg.norm(features.iloc[a] - features.iloc[b])\n",
    "                adj_matrix[b][a] = adj_matrix[a][b]\n",
    "            else :\n",
    "                break\n",
    "                \n",
    "    return adj_matrix\n"
   ]
  },
  {
   "cell_type": "code",
   "execution_count": 76,
   "metadata": {},
   "outputs": [],
   "source": [
    "def find_cluster_pair(adj_matrix) :\n",
    "    idx_min_a, idx_min_b = 1,0\n",
    "    closest_distance = adj_matrix [1][0]\n",
    "    for i in range(len(adj_matrix)) :\n",
    "        for j in range(len(adj_matrix)) :\n",
    "            if (not i == j) and (j <= i) :\n",
    "                if (adj_matrix[i][j] < closest_distance) :\n",
    "                    closest_distance = adj_matrix[i][j]\n",
    "                    idx_min_a, idx_min_b = i,j\n",
    "    \n",
    "    return (idx_min_a,idx_min_b, closest_distance)\n",
    "        "
   ]
  },
  {
   "cell_type": "code",
   "execution_count": 77,
   "metadata": {},
   "outputs": [],
   "source": [
    "def update_cluster(p_1, p_2, cluster) :\n",
    "    new_cluster = cluster[p_2][:]\n",
    "    new_cluster.extend(cluster[p_1])\n",
    "    \n",
    "    cluster.pop(p_1)\n",
    "    cluster.pop(p_2)\n",
    "    cluster.insert(p_2, new_cluster)\n",
    "    \n",
    "    return cluster\n",
    "    "
   ]
  },
  {
   "cell_type": "code",
   "execution_count": 78,
   "metadata": {},
   "outputs": [],
   "source": [
    "def update_adj_matrix(features, p_1, p_2, cluster, cluster_matrix, linkage) :\n",
    "    cluster_matrix.pop(p_1)\n",
    "    cluster_matrix.pop(p_2)\n",
    "\n",
    "    new_distance = []\n",
    "    if (linkage == 1):\n",
    "        new_distance = single_link(features, cluster, p_2)\n",
    "    elif (linkage == 2):\n",
    "        new_distance = complete_link(features, cluster, p_2)\n",
    "    elif (linkage == 3):\n",
    "        new_distance = average_link(features, cluster, p_2)\n",
    "        \n",
    "    cluster_matrix.insert(p_2,new_distance)\n",
    "    for i in range(len(cluster_matrix)) :\n",
    "        cluster_matrix[i][p_2] = new_distance[i]\n",
    "    return cluster_matrix"
   ]
  },
  {
   "cell_type": "code",
   "execution_count": 79,
   "metadata": {
    "scrolled": true
   },
   "outputs": [
    {
     "name": "stdout",
     "output_type": "stream",
     "text": [
      "[[0, 17, 4, 7, 39, 27, 28, 26, 31, 23, 20, 21, 10, 48, 30, 11, 6, 19, 1, 45, 12, 9, 34, 37, 35, 2, 3, 47, 5, 42, 13, 29, 8, 38, 49, 44, 22, 14, 16, 36, 24, 33, 25, 46, 32, 43, 15, 18, 40, 41], [50, 52, 54, 51, 56, 58, 66, 78, 85, 62, 70, 134, 59, 69, 74, 75, 80, 119, 133, 90, 97, 83, 111, 113, 123, 53, 110, 55, 61, 67, 89, 88, 96, 95, 99, 71, 77, 82, 94, 91, 92, 68, 57, 79, 84, 103, 142, 64, 93, 129, 149, 60, 76, 86, 63, 65, 72, 73, 87, 138, 101, 121, 104, 112, 132, 141, 115, 140, 144, 116, 124, 137, 143, 148, 120, 126, 139, 108, 81, 98, 102, 127], [100, 105, 107, 122, 125, 130, 135, 106, 109, 114, 118, 117, 128, 136, 145, 146, 131, 147]]\n"
     ]
    }
   ],
   "source": [
    "'''\n",
    "N_cluster = number of cluster\n",
    "\n",
    "linkage (1) = Single\n",
    "linkage (2) = Complete\n",
    "linkage (3) = Average\n",
    "linkage (4) = Average-Group\n",
    "\n",
    "'''\n",
    "\n",
    "def agglomerative(features, n_cluster, linkage) :\n",
    "\n",
    "    cluster = [[i] for i in range(features.shape[0])]\n",
    "    adj_matrix = find_adj_matrix(features)\n",
    "    cluster_matrix = adj_matrix[:][:]\n",
    "    number_cluster = len(cluster)\n",
    "    while number_cluster > n_cluster :\n",
    "        p_1, p_2, distance = find_cluster_pair(cluster_matrix)\n",
    "        cluster = update_cluster(p_1, p_2, cluster)\n",
    "        cluster_matrix = update_adj_matrix(features, p_1, p_2, cluster, cluster_matrix, linkage)\n",
    "        number_cluster = len(cluster)\n",
    "    return cluster\n",
    "\n",
    "linkage = 2\n",
    "n_cluster = 3\n",
    "cluster = agglomerative(features, n_cluster, linkage)\n",
    "print(cluster)\n"
   ]
  },
  {
   "cell_type": "code",
   "execution_count": 80,
   "metadata": {},
   "outputs": [],
   "source": [
    "def set_label(cluster, features) :\n",
    "    predicted_label = [0 for i in range(features.shape[0])]\n",
    "\n",
    "    for i in range(len(cluster)) :\n",
    "        for x in cluster[i] :\n",
    "            predicted_label[x] = i\n",
    "    predicted_label = np.array(predicted_label)        \n",
    "    return predicted_label"
   ]
  },
  {
   "cell_type": "code",
   "execution_count": 81,
   "metadata": {},
   "outputs": [],
   "source": [
    "predicted_label = set_label(cluster, features)"
   ]
  },
  {
   "cell_type": "code",
   "execution_count": 82,
   "metadata": {},
   "outputs": [],
   "source": [
    "from scipy.stats import mode\n",
    "from sklearn.metrics import confusion_matrix, accuracy_score\n",
    "\n",
    "y = iris_df['label'].values\n",
    "def calculate_accuracy(y_truth, y_predicted):\n",
    "    labels = np.zeros_like(y_predicted)\n",
    "    for i in range(3):\n",
    "        mask = (y_predicted == i)\n",
    "        labels[mask] = mode(y_truth[mask])[0]\n",
    "    return accuracy_score(y_truth, labels)"
   ]
  },
  {
   "cell_type": "code",
   "execution_count": 83,
   "metadata": {},
   "outputs": [
    {
     "data": {
      "text/plain": [
       "0.8933333333333333"
      ]
     },
     "execution_count": 83,
     "metadata": {},
     "output_type": "execute_result"
    }
   ],
   "source": [
    "calculate_accuracy(y, agg.labels_)"
   ]
  },
  {
   "cell_type": "code",
   "execution_count": 84,
   "metadata": {},
   "outputs": [
    {
     "data": {
      "text/plain": [
       "0.7866666666666666"
      ]
     },
     "execution_count": 84,
     "metadata": {},
     "output_type": "execute_result"
    }
   ],
   "source": [
    "calculate_accuracy(y, predicted_label)"
   ]
  },
  {
   "cell_type": "code",
   "execution_count": null,
   "metadata": {},
   "outputs": [],
   "source": []
  }
 ],
 "metadata": {
  "kernelspec": {
   "display_name": "Python 3",
   "language": "python",
   "name": "python3"
  },
  "language_info": {
   "codemirror_mode": {
    "name": "ipython",
    "version": 3
   },
   "file_extension": ".py",
   "mimetype": "text/x-python",
   "name": "python",
   "nbconvert_exporter": "python",
   "pygments_lexer": "ipython3",
   "version": "3.7.3"
  }
 },
 "nbformat": 4,
 "nbformat_minor": 2
}
