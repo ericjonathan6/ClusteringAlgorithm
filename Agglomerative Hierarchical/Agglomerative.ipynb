{
 "cells": [
  {
   "cell_type": "code",
   "execution_count": 42,
   "metadata": {},
   "outputs": [],
   "source": [
    "import pandas as pd\n",
    "import numpy as np\n",
    "import matplotlib.pyplot as plt\n",
    "%matplotlib inline"
   ]
  },
  {
   "cell_type": "code",
   "execution_count": 43,
   "metadata": {},
   "outputs": [],
   "source": [
    "iris_df = pd.read_csv('../dataset/iris.data', names=['feature_1', 'feature_2', 'feature_3', 'feature_4', 'label'], index_col=False)"
   ]
  },
  {
   "cell_type": "code",
   "execution_count": 44,
   "metadata": {},
   "outputs": [
    {
     "data": {
      "text/html": [
       "<div>\n",
       "<style scoped>\n",
       "    .dataframe tbody tr th:only-of-type {\n",
       "        vertical-align: middle;\n",
       "    }\n",
       "\n",
       "    .dataframe tbody tr th {\n",
       "        vertical-align: top;\n",
       "    }\n",
       "\n",
       "    .dataframe thead th {\n",
       "        text-align: right;\n",
       "    }\n",
       "</style>\n",
       "<table border=\"1\" class=\"dataframe\">\n",
       "  <thead>\n",
       "    <tr style=\"text-align: right;\">\n",
       "      <th></th>\n",
       "      <th>feature_1</th>\n",
       "      <th>feature_2</th>\n",
       "      <th>feature_3</th>\n",
       "      <th>feature_4</th>\n",
       "      <th>label</th>\n",
       "    </tr>\n",
       "  </thead>\n",
       "  <tbody>\n",
       "    <tr>\n",
       "      <td>0</td>\n",
       "      <td>5.1</td>\n",
       "      <td>3.5</td>\n",
       "      <td>1.4</td>\n",
       "      <td>0.2</td>\n",
       "      <td>Iris-setosa</td>\n",
       "    </tr>\n",
       "    <tr>\n",
       "      <td>1</td>\n",
       "      <td>4.9</td>\n",
       "      <td>3.0</td>\n",
       "      <td>1.4</td>\n",
       "      <td>0.2</td>\n",
       "      <td>Iris-setosa</td>\n",
       "    </tr>\n",
       "    <tr>\n",
       "      <td>2</td>\n",
       "      <td>4.7</td>\n",
       "      <td>3.2</td>\n",
       "      <td>1.3</td>\n",
       "      <td>0.2</td>\n",
       "      <td>Iris-setosa</td>\n",
       "    </tr>\n",
       "    <tr>\n",
       "      <td>3</td>\n",
       "      <td>4.6</td>\n",
       "      <td>3.1</td>\n",
       "      <td>1.5</td>\n",
       "      <td>0.2</td>\n",
       "      <td>Iris-setosa</td>\n",
       "    </tr>\n",
       "    <tr>\n",
       "      <td>4</td>\n",
       "      <td>5.0</td>\n",
       "      <td>3.6</td>\n",
       "      <td>1.4</td>\n",
       "      <td>0.2</td>\n",
       "      <td>Iris-setosa</td>\n",
       "    </tr>\n",
       "  </tbody>\n",
       "</table>\n",
       "</div>"
      ],
      "text/plain": [
       "   feature_1  feature_2  feature_3  feature_4        label\n",
       "0        5.1        3.5        1.4        0.2  Iris-setosa\n",
       "1        4.9        3.0        1.4        0.2  Iris-setosa\n",
       "2        4.7        3.2        1.3        0.2  Iris-setosa\n",
       "3        4.6        3.1        1.5        0.2  Iris-setosa\n",
       "4        5.0        3.6        1.4        0.2  Iris-setosa"
      ]
     },
     "execution_count": 44,
     "metadata": {},
     "output_type": "execute_result"
    }
   ],
   "source": [
    "iris_df.head()"
   ]
  },
  {
   "cell_type": "code",
   "execution_count": 45,
   "metadata": {},
   "outputs": [
    {
     "data": {
      "text/plain": [
       "array([0, 0, 0, 0, 0, 0, 0, 0, 0, 0, 0, 0, 0, 0, 0, 0, 0, 0, 0, 0, 0, 0,\n",
       "       0, 0, 0, 0, 0, 0, 0, 0, 0, 0, 0, 0, 0, 0, 0, 0, 0, 0, 0, 0, 0, 0,\n",
       "       0, 0, 0, 0, 0, 0, 1, 1, 1, 1, 1, 1, 1, 1, 1, 1, 1, 1, 1, 1, 1, 1,\n",
       "       1, 1, 1, 1, 1, 1, 1, 1, 1, 1, 1, 1, 1, 1, 1, 1, 1, 1, 1, 1, 1, 1,\n",
       "       1, 1, 1, 1, 1, 1, 1, 1, 1, 1, 1, 1, 2, 2, 2, 2, 2, 2, 2, 2, 2, 2,\n",
       "       2, 2, 2, 2, 2, 2, 2, 2, 2, 2, 2, 2, 2, 2, 2, 2, 2, 2, 2, 2, 2, 2,\n",
       "       2, 2, 2, 2, 2, 2, 2, 2, 2, 2, 2, 2, 2, 2, 2, 2, 2, 2])"
      ]
     },
     "execution_count": 45,
     "metadata": {},
     "output_type": "execute_result"
    }
   ],
   "source": [
    "from sklearn.preprocessing import LabelEncoder\n",
    "le = LabelEncoder()\n",
    "le.fit_transform(iris_df['label'])"
   ]
  },
  {
   "cell_type": "markdown",
   "metadata": {},
   "source": [
    "# Label Encoding Guidelines\n",
    "* setosa = 0\n",
    "* versicolor = 1\n",
    "* virginica = 2"
   ]
  },
  {
   "cell_type": "code",
   "execution_count": 46,
   "metadata": {},
   "outputs": [],
   "source": [
    "from sklearn.cluster import AgglomerativeClustering"
   ]
  },
  {
   "cell_type": "code",
   "execution_count": 47,
   "metadata": {},
   "outputs": [],
   "source": [
    "agg = AgglomerativeClustering(3)"
   ]
  },
  {
   "cell_type": "code",
   "execution_count": 48,
   "metadata": {},
   "outputs": [
    {
     "data": {
      "text/plain": [
       "AgglomerativeClustering(affinity='euclidean', compute_full_tree='auto',\n",
       "                        connectivity=None, distance_threshold=None,\n",
       "                        linkage='ward', memory=None, n_clusters=3,\n",
       "                        pooling_func='deprecated')"
      ]
     },
     "execution_count": 48,
     "metadata": {},
     "output_type": "execute_result"
    }
   ],
   "source": [
    "features = iris_df.drop(['label'], axis=1)\n",
    "agg.fit(features)"
   ]
  },
  {
   "cell_type": "code",
   "execution_count": 49,
   "metadata": {},
   "outputs": [
    {
     "data": {
      "text/plain": [
       "array([1, 1, 1, 1, 1, 1, 1, 1, 1, 1, 1, 1, 1, 1, 1, 1, 1, 1, 1, 1, 1, 1,\n",
       "       1, 1, 1, 1, 1, 1, 1, 1, 1, 1, 1, 1, 1, 1, 1, 1, 1, 1, 1, 1, 1, 1,\n",
       "       1, 1, 1, 1, 1, 1, 0, 0, 0, 0, 0, 0, 0, 0, 0, 0, 0, 0, 0, 0, 0, 0,\n",
       "       0, 0, 0, 0, 0, 0, 0, 0, 0, 0, 0, 2, 0, 0, 0, 0, 0, 0, 0, 0, 0, 0,\n",
       "       0, 0, 0, 0, 0, 0, 0, 0, 0, 0, 0, 0, 2, 0, 2, 2, 2, 2, 0, 2, 2, 2,\n",
       "       2, 2, 2, 0, 0, 2, 2, 2, 2, 0, 2, 0, 2, 0, 2, 2, 0, 0, 2, 2, 2, 2,\n",
       "       2, 0, 0, 2, 2, 2, 0, 2, 2, 2, 0, 2, 2, 2, 0, 2, 2, 0], dtype=int64)"
      ]
     },
     "execution_count": 49,
     "metadata": {},
     "output_type": "execute_result"
    }
   ],
   "source": [
    "agg.labels_"
   ]
  },
  {
   "cell_type": "code",
   "execution_count": 50,
   "metadata": {},
   "outputs": [],
   "source": [
    "from scipy.spatial import distance"
   ]
  },
  {
   "cell_type": "code",
   "execution_count": 51,
   "metadata": {},
   "outputs": [],
   "source": [
    "def single_link(features, clusters, p_a):\n",
    "    new_distance = []\n",
    "    list_f = features.values.tolist()\n",
    "    for cluster in clusters :\n",
    "        init_a = list_f[cluster[0]]\n",
    "        init_b = list_f[clusters[p_a][0]]\n",
    "        min_distance = np.linalg.norm(np.array(init_a)-np.array(init_b))\n",
    "        for a in cluster :\n",
    "            for b in clusters[p_a] :\n",
    "                new_dist = np.linalg.norm(np.array(list_f[a])-np.array(list_f[b]))\n",
    "                min_distance = new_dist if new_dist < min_distance else min_distance \n",
    "        new_distance.append(min_distance)\n",
    "    return new_distance"
   ]
  },
  {
   "cell_type": "code",
   "execution_count": 52,
   "metadata": {},
   "outputs": [],
   "source": [
    "def complete_link(features, cluster_a, cluster_b):\n",
    "    max_distance = distance.euclidean(cluster_a[0],cluster_b[0])\n",
    "    for a in cluster_a :\n",
    "        for b in cluster_b :\n",
    "            max_distance = distance.euclidean(a,b) if distance.euclidean(a,b) > max_distance else max_distance \n",
    "    return max_distance"
   ]
  },
  {
   "cell_type": "code",
   "execution_count": 53,
   "metadata": {},
   "outputs": [],
   "source": [
    "def average_link(cluster_a, cluster_b):\n",
    "    return 0\n",
    "#     max_distance = distance.euclidean(cluster_a[0],cluster_b[0])\n",
    "#     for a in cluster_a :\n",
    "#         for b in cluster_b :\n",
    "#             max_distance = distance.euclidean(a,b) if distance.euclidean(a,b) > max_distance else max_distance \n",
    "#     return max_distance"
   ]
  },
  {
   "cell_type": "code",
   "execution_count": 54,
   "metadata": {},
   "outputs": [],
   "source": [
    "def average_complete_link() :\n",
    "    return 0"
   ]
  },
  {
   "cell_type": "code",
   "execution_count": 55,
   "metadata": {},
   "outputs": [],
   "source": [
    "def find_adj_matrix(features) :\n",
    "    \n",
    "    adj_matrix = [[0 for x in range(features.shape[0])] for y in range(features.shape[0])]\n",
    "    \n",
    "    for a in range(features.shape[0]) :\n",
    "        for b in range(features.shape[0]) :\n",
    "            if (b <= a) :\n",
    "                adj_matrix[a][b] = np.linalg.norm(features.iloc[a] - features.iloc[b])\n",
    "                adj_matrix[b][a] = adj_matrix[a][b]\n",
    "            else :\n",
    "                break\n",
    "                \n",
    "    return adj_matrix\n"
   ]
  },
  {
   "cell_type": "code",
   "execution_count": 56,
   "metadata": {},
   "outputs": [],
   "source": [
    "def find_cluster_pair(adj_matrix, linkage) :\n",
    "    idx_min_a, idx_min_b = 1,0\n",
    "    closest_distance = adj_matrix [1][0]\n",
    "    if linkage == 1 :\n",
    "        for i in range(len(adj_matrix)) :\n",
    "            for j in range(len(adj_matrix)) :\n",
    "                if (not i == j) and (j <= i) :\n",
    "                    if (adj_matrix[i][j] < closest_distance) :\n",
    "                        closest_distance = adj_matrix[i][j]\n",
    "                        idx_min_a, idx_min_b = i,j\n",
    "    else :\n",
    "        a,b = 0,1\n",
    "    \n",
    "    return (idx_min_a,idx_min_b, closest_distance)\n",
    "        "
   ]
  },
  {
   "cell_type": "code",
   "execution_count": 57,
   "metadata": {},
   "outputs": [],
   "source": [
    "linkage = 1\n",
    "adj_matrix = find_adj_matrix(features)\n",
    "p_1, p_2, distance = find_cluster_pair(adj_matrix, linkage)"
   ]
  },
  {
   "cell_type": "code",
   "execution_count": 58,
   "metadata": {},
   "outputs": [
    {
     "name": "stdout",
     "output_type": "stream",
     "text": [
      "34 9 0.0\n",
      "feature_1    4.9\n",
      "feature_2    3.1\n",
      "feature_3    1.5\n",
      "feature_4    0.1\n",
      "Name: 34, dtype: float64\n",
      "feature_1    4.9\n",
      "feature_2    3.1\n",
      "feature_3    1.5\n",
      "feature_4    0.1\n",
      "Name: 9, dtype: float64\n"
     ]
    }
   ],
   "source": [
    "print(p_1,p_2, distance)\n",
    "print(features.iloc[34])\n",
    "print(features.iloc[9])"
   ]
  },
  {
   "cell_type": "code",
   "execution_count": 59,
   "metadata": {},
   "outputs": [],
   "source": [
    "def update_cluster(p_1, p_2, cluster) :\n",
    "    new_cluster = cluster[p_2][:]\n",
    "    new_cluster.extend(cluster[p_1])\n",
    "    \n",
    "    cluster.pop(p_1)\n",
    "    cluster.pop(p_2)\n",
    "    cluster.insert(p_2, new_cluster)\n",
    "    \n",
    "    return cluster\n",
    "    "
   ]
  },
  {
   "cell_type": "code",
   "execution_count": 60,
   "metadata": {},
   "outputs": [],
   "source": [
    "def update_adj_matrix(features, p_1, p_2, cluster, cluster_matrix, linkage) :\n",
    "    cluster_matrix.pop(p_1)\n",
    "    cluster_matrix.pop(p_2)\n",
    "\n",
    "    new_distance = []\n",
    "    if (linkage == 1) :\n",
    "        new_distance = single_link(features, cluster, p_2)\n",
    "        cluster_matrix.insert(p_2,new_distance)\n",
    "        for i in range(len(cluster_matrix)) :\n",
    "            cluster_matrix[i][p_2] = new_distance[i]\n",
    "    return cluster_matrix"
   ]
  },
  {
   "cell_type": "code",
   "execution_count": 66,
   "metadata": {
    "scrolled": true
   },
   "outputs": [
    {
     "name": "stdout",
     "output_type": "stream",
     "text": [
      "[[0, 17, 40, 4, 7, 39, 49, 27, 28, 35, 10, 48, 26, 19, 20, 21, 23, 46, 43, 1, 45, 12, 8, 9, 34, 37, 38, 30, 29, 2, 3, 47, 25, 42, 11, 6, 13, 31, 24, 36, 5, 18, 16, 32, 33, 44, 15, 14, 22, 41], [50, 51, 56, 61, 53, 86, 89, 62, 69, 80, 81, 67, 82, 101, 103, 142, 92, 70, 116, 128, 137, 132, 138, 127, 71, 126, 123, 146, 99, 96, 95, 94, 88, 113, 90, 149, 52, 104, 121, 75, 65, 58, 54, 57, 66, 93, 74, 84, 59, 97, 55, 63, 85, 91, 68, 78, 72, 73, 77, 87, 76, 83, 98, 133, 79, 60, 147, 110, 111, 145, 141, 139, 112, 140, 144, 120, 143, 124, 64, 115, 148, 136, 102, 125, 129, 100, 119, 107, 130, 105, 114, 122, 118, 135, 134, 108, 106, 109, 117], [131]]\n"
     ]
    }
   ],
   "source": [
    "'''\n",
    "N_cluster = number of cluster\n",
    "\n",
    "linkage (1) = Single\n",
    "linkage (2) = Complete\n",
    "linkage (3) = Average\n",
    "linkage (4) = Average-Group\n",
    "\n",
    "'''\n",
    "\n",
    "def agglomerative(features, n_cluster, linkage) :\n",
    "\n",
    "    cluster = [[i] for i in range(features.shape[0])]\n",
    "    adj_matrix = find_adj_matrix(features)\n",
    "    cluster_matrix = adj_matrix[:][:]\n",
    "    number_cluster = len(cluster)\n",
    "    while number_cluster > n_cluster :\n",
    "        p_1, p_2, distance = find_cluster_pair(cluster_matrix, linkage)\n",
    "        cluster = update_cluster(p_1, p_2, cluster)\n",
    "        cluster_matrix = update_adj_matrix(features, p_1, p_2, cluster, cluster_matrix, linkage)\n",
    "        number_cluster = len(cluster)\n",
    "    return cluster\n",
    "\n",
    "cluster = agglomerative(features, 3, 1)\n",
    "print(cluster)\n",
    "    "
   ]
  },
  {
   "cell_type": "code",
   "execution_count": null,
   "metadata": {},
   "outputs": [],
   "source": []
  },
  {
   "cell_type": "code",
   "execution_count": 62,
   "metadata": {},
   "outputs": [
    {
     "name": "stdout",
     "output_type": "stream",
     "text": [
      "[[0], [1], [2], [3], [4], [5], [6], [7], [8], [9], [10], [11], [12], [13], [14], [15], [16], [17], [18], [19], [20], [21], [22], [23], [24], [25], [26], [27], [28], [29], [30], [31], [32], [33], [34], [35], [36], [37], [38], [39], [40], [41], [42], [43], [44], [45], [46], [47], [48], [49], [50], [51], [52], [53], [54], [55], [56], [57], [58], [59], [60], [61], [62], [63], [64], [65], [66], [67], [68], [69], [70], [71], [72], [73], [74], [75], [76], [77], [78], [79], [80], [81], [82], [83], [84], [85], [86], [87], [88], [89], [90], [91], [92], [93], [94], [95], [96], [97], [98], [99], [100], [101], [102], [103], [104], [105], [106], [107], [108], [109], [110], [111], [112], [113], [114], [115], [116], [117], [118], [119], [120], [121], [122], [123], [124], [125], [126], [127], [128], [129], [130], [131], [132], [133], [134], [135], [136], [137], [138], [139], [140], [141], [142], [143], [144], [145], [146], [147], [148], [149]]\n",
      "[[0], [1], [2, 3], [4], [5], [6], [7], [8], [9], [10], [11], [12], [13], [14], [15], [16], [17], [18], [19], [20], [21], [22], [23], [24], [25], [26], [27], [28], [29], [30], [31], [32], [33], [34], [35], [36], [37], [38], [39], [40], [41], [42], [43], [44], [45], [46], [47], [48], [49], [50], [51], [52], [53], [54], [55], [56], [57], [58], [59], [60], [61], [62], [63], [64], [65], [66], [67], [68], [69], [70], [71], [72], [73], [74], [75], [76], [77], [78], [79], [80], [81], [82], [83], [84], [85], [86], [87], [88], [89], [90], [91], [92], [93], [94], [95], [96], [97], [98], [99], [100], [101], [102], [103], [104], [105], [106], [107], [108], [109], [110], [111], [112], [113], [114], [115], [116], [117], [118], [119], [120], [121], [122], [123], [124], [125], [126], [127], [128], [129], [130], [131], [132], [133], [134], [135], [136], [137], [138], [139], [140], [141], [142], [143], [144], [145], [146], [147], [148], [149]]\n"
     ]
    }
   ],
   "source": [
    "cluster = [[i] for i in range(150)]\n",
    "print(cluster)\n",
    "cluster = update_cluster(3,2, cluster)\n",
    "print(cluster)\n"
   ]
  },
  {
   "cell_type": "code",
   "execution_count": 63,
   "metadata": {},
   "outputs": [
    {
     "name": "stdout",
     "output_type": "stream",
     "text": [
      "[0.509901951359278, 0.30000000000000016, 0.0, 0.5099019513592783, 1.0862780491200215, 0.264575131106459, 0.4123105625617658, 0.2999999999999997, 0.31622776601683805, 0.8831760866327848, 0.37416573867739394, 0.264575131106459, 0.5000000000000003, 1.3638181696985852, 1.5874507866387546, 1.0099504938362076, 0.5196152422706627, 1.236931687685298, 0.7549834435270744, 0.8306623862918076, 0.6999999999999996, 0.5099019513592785, 0.6480740698407856, 0.5385164807134504, 0.42426406871192884, 0.5099019513592783, 0.6164414002968975, 0.547722557505166, 0.17320508075688812, 0.22360679774997916, 0.7810249675906655, 1.0535653752852736, 1.284523257866513, 0.31622776601683805, 0.31622776601683783, 0.8544003745317529, 0.31622776601683805, 0.29999999999999954, 0.4898979485566351, 0.4358898943540671, 0.8366600265340757, 0.29999999999999954, 0.6557438524302, 0.9591663046625434, 0.264575131106459, 0.781024967590665, 0.14142135623730964, 0.8062257748298548, 0.3316624790355397, 4.177319714841085, 3.733630940518894, 4.305810028322198, 2.98496231131986, 3.8729833462074166, 3.3926390907374753, 3.889730067755345, 2.1118712081942874, 3.8548670534792766, 2.778488797889961, 2.451530134426253, 3.2680269276736387, 3.108054053584011, 3.737646318206152, 2.5806975801127883, 3.776241517699842, 3.420526275297414, 2.9999999999999996, 3.7496666518505353, 2.816025568065745, 3.892300091205713, 3.1304951684997055, 4.06201920231798, 3.685105154537656, 3.511409973215888, 3.722902093797257, 4.154515615568197, 4.349712634186309, 3.5623026261113755, 2.469817807045694, 2.7202941017470885, 2.6038433132583076, 2.891366458960192, 4.127953488110059, 3.3674916480965473, 3.606937759374287, 4.042276586281548, 3.6262928728937496, 2.9966648127543394, 2.9376861643136762, 3.235737937472688, 3.6482872693909396, 2.989983277545211, 2.1633307652783933, 3.108054053584011, 3.083828789021855, 3.1224989991991996, 3.4132096331752027, 1.915724406066802, 3.0446674695276656, 5.33572862878164, 4.177319714841085, 5.406477596365309, 4.722287581247038, 5.109794516416487, 6.215303693304133, 3.420526275297414, 5.738466694161429, 5.081338406365, 5.784461945591828, 4.451965857910412, 4.553020975132884, 4.9457052075512955, 4.1303752856126765, 4.396589587396122, 4.701063709417263, 4.709564735726647, 6.414047084329831, 6.590144156238162, 4.0877866871939394, 5.229722745997153, 3.98622628559895, 6.322973983814895, 4.1436698710201325, 5.06951674225463, 5.4387498563548595, 4.012480529547776, 4.047221268969612, 4.873397172404482, 5.2172789842982334, 5.655086206239477, 6.215303693304134, 4.913247398615299, 4.198809355043403, 4.55521678957215, 5.932115979985556, 4.962862077471023, 4.669047011971501, 3.9268307832143723, 4.9101934788763675, 5.104899607240088, 4.760252094164762, 4.177319714841085, 5.349766350038103, 5.232590180780452, 4.7455242070818695, 4.288356328478313, 4.533210782657255, 4.719110085598767, 4.149698784249286]\n"
     ]
    }
   ],
   "source": [
    "# print(features.values.tolist())\n",
    "print(single_link(features, cluster, 2))\n",
    "# a = [5.1, 3.5, 1.4, 0.2]\n",
    "# b = [4.7, 3.2, 1.3, 0.2]\n",
    "# dist = np.linalg.norm(np.array(a)-np.array(b))\n",
    "# print(dist)"
   ]
  },
  {
   "cell_type": "code",
   "execution_count": 64,
   "metadata": {},
   "outputs": [
    {
     "data": {
      "text/html": [
       "<div>\n",
       "<style scoped>\n",
       "    .dataframe tbody tr th:only-of-type {\n",
       "        vertical-align: middle;\n",
       "    }\n",
       "\n",
       "    .dataframe tbody tr th {\n",
       "        vertical-align: top;\n",
       "    }\n",
       "\n",
       "    .dataframe thead th {\n",
       "        text-align: right;\n",
       "    }\n",
       "</style>\n",
       "<table border=\"1\" class=\"dataframe\">\n",
       "  <thead>\n",
       "    <tr style=\"text-align: right;\">\n",
       "      <th></th>\n",
       "      <th>feature_1</th>\n",
       "      <th>feature_2</th>\n",
       "      <th>feature_3</th>\n",
       "      <th>feature_4</th>\n",
       "    </tr>\n",
       "  </thead>\n",
       "  <tbody>\n",
       "    <tr>\n",
       "      <td>0</td>\n",
       "      <td>5.1</td>\n",
       "      <td>3.5</td>\n",
       "      <td>1.4</td>\n",
       "      <td>0.2</td>\n",
       "    </tr>\n",
       "    <tr>\n",
       "      <td>1</td>\n",
       "      <td>4.9</td>\n",
       "      <td>3.0</td>\n",
       "      <td>1.4</td>\n",
       "      <td>0.2</td>\n",
       "    </tr>\n",
       "    <tr>\n",
       "      <td>2</td>\n",
       "      <td>4.7</td>\n",
       "      <td>3.2</td>\n",
       "      <td>1.3</td>\n",
       "      <td>0.2</td>\n",
       "    </tr>\n",
       "    <tr>\n",
       "      <td>3</td>\n",
       "      <td>4.6</td>\n",
       "      <td>3.1</td>\n",
       "      <td>1.5</td>\n",
       "      <td>0.2</td>\n",
       "    </tr>\n",
       "    <tr>\n",
       "      <td>4</td>\n",
       "      <td>5.0</td>\n",
       "      <td>3.6</td>\n",
       "      <td>1.4</td>\n",
       "      <td>0.2</td>\n",
       "    </tr>\n",
       "  </tbody>\n",
       "</table>\n",
       "</div>"
      ],
      "text/plain": [
       "   feature_1  feature_2  feature_3  feature_4\n",
       "0        5.1        3.5        1.4        0.2\n",
       "1        4.9        3.0        1.4        0.2\n",
       "2        4.7        3.2        1.3        0.2\n",
       "3        4.6        3.1        1.5        0.2\n",
       "4        5.0        3.6        1.4        0.2"
      ]
     },
     "execution_count": 64,
     "metadata": {},
     "output_type": "execute_result"
    }
   ],
   "source": [
    "features.head()\n",
    "# cluster.remove([1])\n",
    "# cluster.insert(0, a)\n",
    "# print(cluster)"
   ]
  },
  {
   "cell_type": "code",
   "execution_count": 65,
   "metadata": {},
   "outputs": [
    {
     "ename": "NameError",
     "evalue": "name 'cluster_matrix' is not defined",
     "output_type": "error",
     "traceback": [
      "\u001b[1;31m---------------------------------------------------------------------------\u001b[0m",
      "\u001b[1;31mNameError\u001b[0m                                 Traceback (most recent call last)",
      "\u001b[1;32m<ipython-input-65-22616362ff69>\u001b[0m in \u001b[0;36m<module>\u001b[1;34m\u001b[0m\n\u001b[1;32m----> 1\u001b[1;33m \u001b[0mprint\u001b[0m\u001b[1;33m(\u001b[0m\u001b[0mnp\u001b[0m\u001b[1;33m.\u001b[0m\u001b[0mamax\u001b[0m\u001b[1;33m(\u001b[0m\u001b[0mcluster_matrix\u001b[0m\u001b[1;33m,\u001b[0m \u001b[0maxis\u001b[0m \u001b[1;33m=\u001b[0m \u001b[1;36m1\u001b[0m\u001b[1;33m)\u001b[0m\u001b[1;33m)\u001b[0m\u001b[1;33m\u001b[0m\u001b[1;33m\u001b[0m\u001b[0m\n\u001b[0m",
      "\u001b[1;31mNameError\u001b[0m: name 'cluster_matrix' is not defined"
     ]
    }
   ],
   "source": [
    "print(np.amax(cluster_matrix, axis = 1))"
   ]
  },
  {
   "cell_type": "code",
   "execution_count": null,
   "metadata": {},
   "outputs": [],
   "source": []
  },
  {
   "cell_type": "code",
   "execution_count": null,
   "metadata": {},
   "outputs": [],
   "source": []
  }
 ],
 "metadata": {
  "kernelspec": {
   "display_name": "Python 3",
   "language": "python",
   "name": "python3"
  },
  "language_info": {
   "codemirror_mode": {
    "name": "ipython",
    "version": 3
   },
   "file_extension": ".py",
   "mimetype": "text/x-python",
   "name": "python",
   "nbconvert_exporter": "python",
   "pygments_lexer": "ipython3",
   "version": "3.7.4"
  }
 },
 "nbformat": 4,
 "nbformat_minor": 2
}
